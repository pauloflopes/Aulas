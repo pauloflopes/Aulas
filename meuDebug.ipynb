{
 "cells": [
  {
   "cell_type": "code",
   "execution_count": 7,
   "metadata": {},
   "outputs": [
    {
     "data": {
      "text/plain": [
       "Index(['Rank', 'book title', 'book price', 'rating', 'author',\n",
       "       'year of publication', 'genre', 'url'],\n",
       "      dtype='object')"
      ]
     },
     "execution_count": 7,
     "metadata": {},
     "output_type": "execute_result"
    }
   ],
   "source": [
    "import streamlit as st\n",
    "import plotly.express  as px\n",
    "import pandas as pd\n",
    "df_top100_books = pd.read_csv(\"Datasets/Top-100 Trending Books.csv\")\n",
    "preco_max = df_top100_books[\"book price\"].max()\n",
    "preco_min = df_top100_books[\"book price\"].min()\n",
    "preco_max = st.sidebar.slider(\"Preço\", preco_min, preco_max, preco_max)\n",
    "df_books = df_top100_books[df_top100_books[\"book price\"] <= preco_max]\n",
    "df_books.columns"
   ]
  },
  {
   "cell_type": "code",
   "execution_count": 8,
   "metadata": {},
   "outputs": [
    {
     "data": {
      "text/plain": [
       "year of publication\n",
       "2023    28\n",
       "2022     8\n",
       "2018     8\n",
       "2021     6\n",
       "2017     5\n",
       "2020     5\n",
       "2016     5\n",
       "2015     5\n",
       "2014     4\n",
       "2019     3\n",
       "1967     2\n",
       "1997     2\n",
       "2011     2\n",
       "2009     2\n",
       "1980     1\n",
       "2010     1\n",
       "1982     1\n",
       "1999     1\n",
       "2005     1\n",
       "2008     1\n",
       "2024     1\n",
       "1994     1\n",
       "2013     1\n",
       "1960     1\n",
       "1989     1\n",
       "1947     1\n",
       "1998     1\n",
       "1969     1\n",
       "1987     1\n",
       "Name: count, dtype: int64"
      ]
     },
     "execution_count": 8,
     "metadata": {},
     "output_type": "execute_result"
    }
   ],
   "source": [
    "df_books[\"year of publication\"].value_counts()"
   ]
  }
 ],
 "metadata": {
  "kernelspec": {
   "display_name": "Python 3",
   "language": "python",
   "name": "python3"
  },
  "language_info": {
   "codemirror_mode": {
    "name": "ipython",
    "version": 3
   },
   "file_extension": ".py",
   "mimetype": "text/x-python",
   "name": "python",
   "nbconvert_exporter": "python",
   "pygments_lexer": "ipython3",
   "version": "3.12.0"
  }
 },
 "nbformat": 4,
 "nbformat_minor": 2
}
